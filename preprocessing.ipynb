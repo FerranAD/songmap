{
 "cells": [
  {
   "cell_type": "code",
   "execution_count": 1,
   "metadata": {},
   "outputs": [],
   "source": [
    "from pyspark.sql import SparkSession\n",
    "import pyspark.sql.functions as sfn"
   ]
  },
  {
   "cell_type": "code",
   "execution_count": 2,
   "metadata": {},
   "outputs": [
    {
     "name": "stderr",
     "output_type": "stream",
     "text": [
      "24/06/07 18:30:31 WARN Utils: Your hostname, arch resolves to a loopback address: 127.0.1.1; using 192.168.1.39 instead (on interface enp3s0)\n",
      "24/06/07 18:30:31 WARN Utils: Set SPARK_LOCAL_IP if you need to bind to another address\n",
      "Setting default log level to \"WARN\".\n",
      "To adjust logging level use sc.setLogLevel(newLevel). For SparkR, use setLogLevel(newLevel).\n",
      "24/06/07 18:30:32 WARN NativeCodeLoader: Unable to load native-hadoop library for your platform... using builtin-java classes where applicable\n",
      "24/06/07 18:30:33 WARN Utils: Service 'SparkUI' could not bind on port 4040. Attempting port 4041.\n"
     ]
    }
   ],
   "source": [
    "spark = SparkSession \\\n",
    "    .builder \\\n",
    "    .appName(\"Final project\") \\\n",
    "    .config(\"spark.dynamicAllocation.enabled\", \"true\") \\\n",
    "    .config(\"spark.executor.memory\", \"10g\") \\\n",
    "    .config(\"spark.executor.cores\", \"10\") \\\n",
    "    .getOrCreate()"
   ]
  },
  {
   "cell_type": "code",
   "execution_count": 3,
   "metadata": {},
   "outputs": [
    {
     "name": "stderr",
     "output_type": "stream",
     "text": [
      "24/06/05 19:47:02 WARN SparkStringUtils: Truncated the string representation of a plan since it was too large. This behavior can be adjusted by setting 'spark.sql.debug.maxToStringFields'.\n"
     ]
    }
   ],
   "source": [
    "artist_df_json = spark.read.json(\"datasets/musicbrainz/artist.json\")"
   ]
  },
  {
   "cell_type": "code",
   "execution_count": 4,
   "metadata": {},
   "outputs": [
    {
     "name": "stderr",
     "output_type": "stream",
     "text": [
      "[Stage 1:>                                                          (0 + 1) / 1]\r"
     ]
    },
    {
     "name": "stdout",
     "output_type": "stream",
     "text": [
      "+--------------------+----------+--------------------+--------------------+--------------------+-------+--------------------+--------+--------+------+--------------------+--------------------+--------------------+----+------------------+--------------------+-------------------+---------+--------------------+--------------------+--------------------+------+--------------------+\n",
      "|             aliases|annotation|                area|          begin-area|          begin_area|country|      disambiguation|end-area|end_area|gender|           gender-id|              genres|                  id|ipis|             isnis|           life-span|               name|   rating|           relations|           sort-name|                tags|  type|             type-id|\n",
      "+--------------------+----------+--------------------+--------------------+--------------------+-------+--------------------+--------+--------+------+--------------------+--------------------+--------------------+----+------------------+--------------------+-------------------+---------+--------------------+--------------------+--------------------+------+--------------------+\n",
      "|                  []|      NULL|                NULL|                NULL|                NULL|   NULL|               noise|    NULL|    NULL|  Male|36d3d30a-839d-3ed...|                  []|72f153e9-364c-4a4...|  []|                []| {NULL, NULL, false}|              Kites|{NULL, 0}|[{{, 53a772da-84e...|               Kites|                  []|Person|b6e035f4-3ce9-331...|\n",
      "|                  []|      NULL|                NULL|                NULL|                NULL|   NULL|                    |    NULL|    NULL|  NULL|                NULL|                  []|3df0dcb4-211f-46e...|  []|                []| {NULL, NULL, false}|The Sticky Five Pin|{NULL, 0}|                  []|Sticky Five Pin, The|                  []|  NULL|                NULL|\n",
      "|                  []|      NULL|                NULL|                NULL|                NULL|   NULL|                    |    NULL|    NULL|  NULL|                NULL|                  []|e2c4079c-7594-499...|  []|                []| {NULL, NULL, false}|  La Lettre A Camus|{NULL, 0}|                  []|   La Lettre A Camus|                  []|  NULL|                NULL|\n",
      "|[{NULL, NULL, fal...|      NULL|{, 2dd47a64-91d5-...|{, 23e0d135-9fe7-...|{, 23e0d135-9fe7-...|     JM|    dancehall deejay|    NULL|    NULL|  Male|36d3d30a-839d-3ed...|[{2, , 6c3503e3-b...|2d5fbbfd-27a7-4b7...|  []|[0000000055177699]|{1963-06-25, NULL...|          Super Cat|{NULL, 0}|[{NULL, NULL, {NU...|           Super Cat|[{2, dancehall}, ...|Person|b6e035f4-3ce9-331...|\n",
      "|                  []|      NULL|{, ef1b7cc0-cd26-...|{, 834e9db3-0209-...|{, 834e9db3-0209-...|     NL|Dutch thrash/deat...|    NULL|    NULL|  NULL|                NULL|[{5, , eacfa027-2...|1dbc1f29-19b7-49d...|  []|[0000000107196294]| {1986, NULL, false}|         Pestilence| {4.5, 4}|[{{, 0c494bb8-d79...|          Pestilence|[{1, death}, {5, ...| Group|e431f5f6-b5d2-343...|\n",
      "+--------------------+----------+--------------------+--------------------+--------------------+-------+--------------------+--------+--------+------+--------------------+--------------------+--------------------+----+------------------+--------------------+-------------------+---------+--------------------+--------------------+--------------------+------+--------------------+\n",
      "only showing top 5 rows\n",
      "\n"
     ]
    },
    {
     "name": "stderr",
     "output_type": "stream",
     "text": [
      "                                                                                \r"
     ]
    }
   ],
   "source": [
    "artist_df_json.show(5)"
   ]
  },
  {
   "cell_type": "code",
   "execution_count": null,
   "metadata": {},
   "outputs": [],
   "source": [
    "artist_df_json.printSchema()"
   ]
  },
  {
   "cell_type": "code",
   "execution_count": 6,
   "metadata": {},
   "outputs": [],
   "source": [
    "artist_df_filtered = artist_df_json \\\n",
    "    .select(\"name\", \"country\") \\\n",
    "    .dropDuplicates([\"name\"]) \\\n",
    "    .filter(\n",
    "        (sfn.col(\"name\").isNotNull()) &\n",
    "        (sfn.col(\"country\").isNotNull())\n",
    "    )"
   ]
  },
  {
   "cell_type": "code",
   "execution_count": 7,
   "metadata": {},
   "outputs": [
    {
     "name": "stderr",
     "output_type": "stream",
     "text": [
      "                                                                                \r"
     ]
    },
    {
     "data": {
      "text/plain": [
       "810575"
      ]
     },
     "execution_count": 7,
     "metadata": {},
     "output_type": "execute_result"
    }
   ],
   "source": [
    "artist_df_filtered.count()"
   ]
  },
  {
   "cell_type": "code",
   "execution_count": 3,
   "metadata": {},
   "outputs": [
    {
     "name": "stderr",
     "output_type": "stream",
     "text": [
      "                                                                                \r"
     ]
    }
   ],
   "source": [
    "spotify_df_parquet = spark.read.parquet(\"datasets/huggingface/0000.parquet\")"
   ]
  },
  {
   "cell_type": "code",
   "execution_count": 9,
   "metadata": {},
   "outputs": [
    {
     "data": {
      "text/plain": [
       "114000"
      ]
     },
     "execution_count": 9,
     "metadata": {},
     "output_type": "execute_result"
    }
   ],
   "source": [
    "spotify_df_parquet.count()"
   ]
  },
  {
   "cell_type": "code",
   "execution_count": 10,
   "metadata": {},
   "outputs": [
    {
     "name": "stdout",
     "output_type": "stream",
     "text": [
      "+----------+----------------------+----------------------+------------------------------------------------------+--------------------------+----------+-----------+--------+------------+------+---+--------+----+-----------+------------+----------------+--------+-------+-------+--------------+-----------+\n",
      "|Unnamed: 0|track_id              |artists               |album_name                                            |track_name                |popularity|duration_ms|explicit|danceability|energy|key|loudness|mode|speechiness|acousticness|instrumentalness|liveness|valence|tempo  |time_signature|track_genre|\n",
      "+----------+----------------------+----------------------+------------------------------------------------------+--------------------------+----------+-----------+--------+------------+------+---+--------+----+-----------+------------+----------------+--------+-------+-------+--------------+-----------+\n",
      "|0         |5SuOikwiRyPMVoIQDJUgSV|Gen Hoshino           |Comedy                                                |Comedy                    |73        |230666     |false   |0.676       |0.461 |1  |-6.746  |0   |0.143      |0.0322      |1.01E-6         |0.358   |0.715  |87.917 |4             |acoustic   |\n",
      "|1         |4qPNDBW1i3p13qLCt0Ki3A|Ben Woodward          |Ghost (Acoustic)                                      |Ghost - Acoustic          |55        |149610     |false   |0.42        |0.166 |1  |-17.235 |1   |0.0763     |0.924       |5.56E-6         |0.101   |0.267  |77.489 |4             |acoustic   |\n",
      "|2         |1iJBSr7s7jYXzM8EGcbK5b|Ingrid Michaelson;ZAYN|To Begin Again                                        |To Begin Again            |57        |210826     |false   |0.438       |0.359 |0  |-9.734  |1   |0.0557     |0.21        |0.0             |0.117   |0.12   |76.332 |4             |acoustic   |\n",
      "|3         |6lfxq3CG4xtTiEg7opyCyx|Kina Grannis          |Crazy Rich Asians (Original Motion Picture Soundtrack)|Can't Help Falling In Love|71        |201933     |false   |0.266       |0.0596|0  |-18.515 |1   |0.0363     |0.905       |7.07E-5         |0.132   |0.143  |181.74 |3             |acoustic   |\n",
      "|4         |5vjLSffimiIP26QG5WcN2K|Chord Overstreet      |Hold On                                               |Hold On                   |82        |198853     |false   |0.618       |0.443 |2  |-9.681  |1   |0.0526     |0.469       |0.0             |0.0829  |0.167  |119.949|4             |acoustic   |\n",
      "+----------+----------------------+----------------------+------------------------------------------------------+--------------------------+----------+-----------+--------+------------+------+---+--------+----+-----------+------------+----------------+--------+-------+-------+--------------+-----------+\n",
      "only showing top 5 rows\n",
      "\n"
     ]
    }
   ],
   "source": [
    "spotify_df_parquet.show(5, truncate=False)"
   ]
  },
  {
   "cell_type": "markdown",
   "metadata": {},
   "source": [
    " Take artists column whose values are of the form artis1:artist2:artist3 and make it contain only the first artist\n"
   ]
  },
  {
   "cell_type": "code",
   "execution_count": 11,
   "metadata": {},
   "outputs": [],
   "source": [
    "spotify_df = spotify_df_parquet.withColumn(\"name\", sfn.split(sfn.col(\"artists\"), \";\")[0])\n",
    "spotify_df = spotify_df.drop(\"Unnamed: 0\", \"artists\", \"album_name\")"
   ]
  },
  {
   "cell_type": "markdown",
   "metadata": {},
   "source": [
    "Look for duplicates and nulls"
   ]
  },
  {
   "cell_type": "code",
   "execution_count": 12,
   "metadata": {},
   "outputs": [],
   "source": [
    "spotify_df_no_dups = spotify_df.dropDuplicates([\"track_id\"])"
   ]
  },
  {
   "cell_type": "code",
   "execution_count": 13,
   "metadata": {},
   "outputs": [
    {
     "name": "stderr",
     "output_type": "stream",
     "text": [
      "                                                                                \r"
     ]
    },
    {
     "name": "stdout",
     "output_type": "stream",
     "text": [
      "+--------+----------+----------+-----------+--------+------------+------+---+--------+----+-----------+------------+----------------+--------+-------+-----+--------------+-----------+----+\n",
      "|track_id|track_name|popularity|duration_ms|explicit|danceability|energy|key|loudness|mode|speechiness|acousticness|instrumentalness|liveness|valence|tempo|time_signature|track_genre|name|\n",
      "+--------+----------+----------+-----------+--------+------------+------+---+--------+----+-----------+------------+----------------+--------+-------+-----+--------------+-----------+----+\n",
      "|       0|         1|         0|          0|       0|           0|     0|  0|       0|   0|          0|           0|               0|       0|      0|    0|             0|          0|   1|\n",
      "+--------+----------+----------+-----------+--------+------------+------+---+--------+----+-----------+------------+----------------+--------+-------+-----+--------------+-----------+----+\n",
      "\n"
     ]
    }
   ],
   "source": [
    "spotify_df_no_dups.select([sfn.count(sfn.when(sfn.isnull(c), c)).alias(c) for c in spotify_df_no_dups.columns]).show()"
   ]
  },
  {
   "cell_type": "code",
   "execution_count": 15,
   "metadata": {},
   "outputs": [
    {
     "data": {
      "text/plain": [
       "89740"
      ]
     },
     "execution_count": 15,
     "metadata": {},
     "output_type": "execute_result"
    }
   ],
   "source": [
    "spotify_df_clean = spotify_df_no_dups \\\n",
    "    .drop(\"track_id\") \\\n",
    "    .filter(\n",
    "        sfn.col(\"track_name\").isNotNull() & \n",
    "        sfn.col(\"name\").isNotNull()\n",
    "    )\n",
    "\n",
    "spotify_df_clean.count()"
   ]
  },
  {
   "cell_type": "code",
   "execution_count": 16,
   "metadata": {},
   "outputs": [
    {
     "data": {
      "text/plain": [
       "DataFrame[name: string, track_name: string, popularity: bigint, duration_ms: bigint, explicit: boolean, danceability: double, energy: double, key: bigint, loudness: double, mode: bigint, speechiness: double, acousticness: double, instrumentalness: double, liveness: double, valence: double, tempo: double, time_signature: bigint, track_genre: string]"
      ]
     },
     "execution_count": 16,
     "metadata": {},
     "output_type": "execute_result"
    }
   ],
   "source": [
    "from pyspark import StorageLevel\n",
    "\n",
    "joined_df = spotify_df_clean.join(artist_df_filtered, \"name\", \"inner\")\n",
    "antijoined_df = spotify_df_clean.join(artist_df_filtered, \"name\", \"left_anti\")\n",
    "\n",
    "joined_df.persist(StorageLevel.MEMORY_AND_DISK)\n",
    "antijoined_df.persist(StorageLevel.MEMORY_AND_DISK)"
   ]
  },
  {
   "cell_type": "code",
   "execution_count": 17,
   "metadata": {},
   "outputs": [
    {
     "name": "stderr",
     "output_type": "stream",
     "text": [
      "                                                                                \r"
     ]
    },
    {
     "name": "stdout",
     "output_type": "stream",
     "text": [
      "+----+---------------------------+----------+-----------+--------+------------+------+---+--------+----+-----------+------------+----------------+--------+-------+-------+--------------+--------------+-------+\n",
      "|name|track_name                 |popularity|duration_ms|explicit|danceability|energy|key|loudness|mode|speechiness|acousticness|instrumentalness|liveness|valence|tempo  |time_signature|track_genre   |country|\n",
      "+----+---------------------------+----------+-----------+--------+------------+------+---+--------+----+-----------+------------+----------------+--------+-------+-------+--------------+--------------+-------+\n",
      "|ANNA|Forever Ravers - Radio Edit|42        |200930     |false   |0.507       |0.92  |6  |-8.151  |0   |0.0561     |0.00629     |0.627           |0.668   |0.225  |129.013|4             |minimal-techno|JP     |\n",
      "|ANNA|Cosmovision                |53        |213390     |false   |0.644       |0.757 |1  |-8.204  |1   |0.0388     |0.0677      |0.864           |0.103   |0.0462 |128.017|4             |minimal-techno|JP     |\n",
      "|ANNA|Forever Ravers             |38        |360812     |false   |0.524       |0.863 |2  |-8.201  |1   |0.0479     |0.00196     |0.751           |0.13    |0.112  |129.021|4             |minimal-techno|JP     |\n",
      "|ANNA|Dimensions                 |43        |362419     |false   |0.658       |0.97  |2  |-10.25  |1   |0.0549     |0.00136     |0.898           |0.111   |0.039  |129.992|3             |minimal-techno|JP     |\n",
      "|ANNA|Journey To The Underworld  |41        |459720     |false   |0.732       |0.906 |1  |-10.032 |1   |0.0459     |0.015       |0.917           |0.137   |0.0301 |128.006|4             |minimal-techno|JP     |\n",
      "+----+---------------------------+----------+-----------+--------+------------+------+---+--------+----+-----------+------------+----------------+--------+-------+-------+--------------+--------------+-------+\n",
      "only showing top 5 rows\n",
      "\n"
     ]
    },
    {
     "data": {
      "text/plain": [
       "58230"
      ]
     },
     "execution_count": 17,
     "metadata": {},
     "output_type": "execute_result"
    }
   ],
   "source": [
    "joined_df.show(5,truncate=False)\n",
    "joined_df.count()"
   ]
  },
  {
   "cell_type": "code",
   "execution_count": 18,
   "metadata": {},
   "outputs": [
    {
     "name": "stderr",
     "output_type": "stream",
     "text": [
      "                                                                                \r"
     ]
    },
    {
     "name": "stdout",
     "output_type": "stream",
     "text": [
      "+-------------------+-----------------------------------+----------+-----------+--------+------------+------+---+--------+----+-----------+------------+----------------+--------+-------+-------+--------------+--------------+\n",
      "|name               |track_name                         |popularity|duration_ms|explicit|danceability|energy|key|loudness|mode|speechiness|acousticness|instrumentalness|liveness|valence|tempo  |time_signature|track_genre   |\n",
      "+-------------------+-----------------------------------+----------+-----------+--------+------------+------+---+--------+----+-----------+------------+----------------+--------+-------+-------+--------------+--------------+\n",
      "|Thunderstorms HD   |Thunderstorm: Heavy Rain - Loopable|38        |175104     |false   |0.271       |0.961 |1  |-14.121 |1   |0.116      |1.89E-5     |0.97            |0.525   |0.0776 |86.095 |3             |sleep         |\n",
      "|Shannon & The Clams|You Can Come Over                  |23        |146786     |false   |0.374       |0.712 |4  |-5.144  |0   |0.0447     |0.0821      |0.1             |0.111   |0.764  |82.758 |4             |power-pop     |\n",
      "|Hermetica          |Sepulcro Civil                     |34        |180400     |false   |0.289       |0.917 |0  |-8.521  |1   |0.236      |0.00362     |0.0             |0.119   |0.355  |150.04 |4             |heavy-metal   |\n",
      "|Los Freddy's       |Dejenme Llorar                     |37        |158040     |false   |0.598       |0.747 |11 |-2.497  |1   |0.0284     |0.39        |0.0             |0.238   |0.962  |115.464|4             |rock-n-roll   |\n",
      "|Delano Smith       |Trying Times                       |6         |402166     |false   |0.805       |0.566 |9  |-9.864  |0   |0.177      |8.31E-4     |0.93            |0.11    |0.109  |125.033|4             |detroit-techno|\n",
      "+-------------------+-----------------------------------+----------+-----------+--------+------------+------+---+--------+----+-----------+------------+----------------+--------+-------+-------+--------------+--------------+\n",
      "only showing top 5 rows\n",
      "\n"
     ]
    },
    {
     "data": {
      "text/plain": [
       "31510"
      ]
     },
     "execution_count": 18,
     "metadata": {},
     "output_type": "execute_result"
    }
   ],
   "source": [
    "antijoined_df.show(5,truncate=False)\n",
    "antijoined_df.count()"
   ]
  },
  {
   "cell_type": "code",
   "execution_count": 19,
   "metadata": {},
   "outputs": [
    {
     "name": "stderr",
     "output_type": "stream",
     "text": [
      "                                                                                \r"
     ]
    },
    {
     "name": "stdout",
     "output_type": "stream",
     "text": [
      "9646\n"
     ]
    },
    {
     "name": "stderr",
     "output_type": "stream",
     "text": [
      "[Stage 69:====================================================> (193 + 7) / 200]\r"
     ]
    },
    {
     "name": "stdout",
     "output_type": "stream",
     "text": [
      "8002\n"
     ]
    },
    {
     "name": "stderr",
     "output_type": "stream",
     "text": [
      "                                                                                \r"
     ]
    }
   ],
   "source": [
    "print(joined_df.groupBy(\"name\").count().count())\n",
    "print(antijoined_df.groupBy(\"name\").count().count())"
   ]
  },
  {
   "cell_type": "code",
   "execution_count": 21,
   "metadata": {},
   "outputs": [
    {
     "name": "stdout",
     "output_type": "stream",
     "text": [
      "root\n",
      " |-- name: string (nullable = true)\n",
      " |-- track_name: string (nullable = true)\n",
      " |-- popularity: long (nullable = true)\n",
      " |-- duration_ms: long (nullable = true)\n",
      " |-- explicit: boolean (nullable = true)\n",
      " |-- danceability: double (nullable = true)\n",
      " |-- energy: double (nullable = true)\n",
      " |-- key: long (nullable = true)\n",
      " |-- loudness: double (nullable = true)\n",
      " |-- mode: long (nullable = true)\n",
      " |-- speechiness: double (nullable = true)\n",
      " |-- acousticness: double (nullable = true)\n",
      " |-- instrumentalness: double (nullable = true)\n",
      " |-- liveness: double (nullable = true)\n",
      " |-- valence: double (nullable = true)\n",
      " |-- tempo: double (nullable = true)\n",
      " |-- time_signature: long (nullable = true)\n",
      " |-- track_genre: string (nullable = true)\n",
      " |-- country: string (nullable = true)\n",
      "\n",
      "root\n",
      " |-- name: string (nullable = true)\n",
      " |-- track_name: string (nullable = true)\n",
      " |-- popularity: long (nullable = true)\n",
      " |-- duration_ms: long (nullable = true)\n",
      " |-- explicit: boolean (nullable = true)\n",
      " |-- danceability: double (nullable = true)\n",
      " |-- energy: double (nullable = true)\n",
      " |-- key: long (nullable = true)\n",
      " |-- loudness: double (nullable = true)\n",
      " |-- mode: long (nullable = true)\n",
      " |-- speechiness: double (nullable = true)\n",
      " |-- acousticness: double (nullable = true)\n",
      " |-- instrumentalness: double (nullable = true)\n",
      " |-- liveness: double (nullable = true)\n",
      " |-- valence: double (nullable = true)\n",
      " |-- tempo: double (nullable = true)\n",
      " |-- time_signature: long (nullable = true)\n",
      " |-- track_genre: string (nullable = true)\n",
      "\n",
      "root\n",
      " |-- name: string (nullable = true)\n",
      " |-- country: string (nullable = true)\n",
      "\n"
     ]
    }
   ],
   "source": [
    "joined_df.printSchema()\n",
    "antijoined_df.printSchema()\n",
    "artist_df_filtered.printSchema()"
   ]
  },
  {
   "cell_type": "code",
   "execution_count": 28,
   "metadata": {},
   "outputs": [],
   "source": [
    "from pyspark.sql.types import StructType, StructField, StringType, LongType, BooleanType, DoubleType\n",
    "\n",
    "joined_df_schema = StructType([\n",
    "    StructField(\"name\", StringType(), nullable=False),\n",
    "    StructField(\"track_name\", StringType(), nullable=False),\n",
    "    StructField(\"popularity\", LongType(), nullable=False),\n",
    "    StructField(\"duration_ms\", LongType(), nullable=False),\n",
    "    StructField(\"explicit\", BooleanType(), nullable=False),\n",
    "    StructField(\"danceability\", DoubleType(), nullable=False),\n",
    "    StructField(\"energy\", DoubleType(), nullable=False),\n",
    "    StructField(\"key\", LongType(), nullable=False),\n",
    "    StructField(\"loudness\", DoubleType(), nullable=False),\n",
    "    StructField(\"mode\", LongType(), nullable=False),\n",
    "    StructField(\"speechiness\", DoubleType(), nullable=False),\n",
    "    StructField(\"acousticness\", DoubleType(), nullable=False),\n",
    "    StructField(\"instrumentalness\", DoubleType(), nullable=False),\n",
    "    StructField(\"liveness\", DoubleType(), nullable=False),\n",
    "    StructField(\"valence\", DoubleType(), nullable=False),\n",
    "    StructField(\"tempo\", DoubleType(), nullable=False),\n",
    "    StructField(\"time_signature\", LongType(), nullable=False),\n",
    "    StructField(\"track_genre\", StringType(), nullable=False),\n",
    "    StructField(\"country\", StringType(), nullable=False)\n",
    "])\n",
    "\n",
    "antijoined_df_schema = StructType([\n",
    "    StructField(\"name\", StringType(), nullable=False),\n",
    "    StructField(\"track_name\", StringType(), nullable=False),\n",
    "    StructField(\"popularity\", LongType(), nullable=False),\n",
    "    StructField(\"duration_ms\", LongType(), nullable=False),\n",
    "    StructField(\"explicit\", BooleanType(), nullable=False),\n",
    "    StructField(\"danceability\", DoubleType(), nullable=False),\n",
    "    StructField(\"energy\", DoubleType(), nullable=False),\n",
    "    StructField(\"key\", LongType(), nullable=False),\n",
    "    StructField(\"loudness\", DoubleType(), nullable=False),\n",
    "    StructField(\"mode\", LongType(), nullable=False),\n",
    "    StructField(\"speechiness\", DoubleType(), nullable=False),\n",
    "    StructField(\"acousticness\", DoubleType(), nullable=False),\n",
    "    StructField(\"instrumentalness\", DoubleType(), nullable=False),\n",
    "    StructField(\"liveness\", DoubleType(), nullable=False),\n",
    "    StructField(\"valence\", DoubleType(), nullable=False),\n",
    "    StructField(\"tempo\", DoubleType(), nullable=False),\n",
    "    StructField(\"time_signature\", LongType(), nullable=False),\n",
    "    StructField(\"track_genre\", StringType(), nullable=False),\n",
    "])\n",
    "\n",
    "artist_df_schema = StructType([\n",
    "    StructField(\"name\", StringType(), nullable=False),\n",
    "    StructField(\"country\", StringType(), nullable=False)\n",
    "])"
   ]
  },
  {
   "cell_type": "code",
   "execution_count": 22,
   "metadata": {},
   "outputs": [
    {
     "name": "stdout",
     "output_type": "stream",
     "text": [
      "+----+----------+----------+-----------+--------+------------+------+---+--------+----+-----------+------------+----------------+--------+-------+-----+--------------+-----------+-------+\n",
      "|name|track_name|popularity|duration_ms|explicit|danceability|energy|key|loudness|mode|speechiness|acousticness|instrumentalness|liveness|valence|tempo|time_signature|track_genre|country|\n",
      "+----+----------+----------+-----------+--------+------------+------+---+--------+----+-----------+------------+----------------+--------+-------+-----+--------------+-----------+-------+\n",
      "|   0|         0|         0|          0|       0|           0|     0|  0|       0|   0|          0|           0|               0|       0|      0|    0|             0|          0|      0|\n",
      "+----+----------+----------+-----------+--------+------------+------+---+--------+----+-----------+------------+----------------+--------+-------+-----+--------------+-----------+-------+\n",
      "\n",
      "None\n",
      "+----+----------+----------+-----------+--------+------------+------+---+--------+----+-----------+------------+----------------+--------+-------+-----+--------------+-----------+\n",
      "|name|track_name|popularity|duration_ms|explicit|danceability|energy|key|loudness|mode|speechiness|acousticness|instrumentalness|liveness|valence|tempo|time_signature|track_genre|\n",
      "+----+----------+----------+-----------+--------+------------+------+---+--------+----+-----------+------------+----------------+--------+-------+-----+--------------+-----------+\n",
      "|   0|         0|         0|          0|       0|           0|     0|  0|       0|   0|          0|           0|               0|       0|      0|    0|             0|          0|\n",
      "+----+----------+----------+-----------+--------+------------+------+---+--------+----+-----------+------------+----------------+--------+-------+-----+--------------+-----------+\n",
      "\n",
      "None\n"
     ]
    },
    {
     "name": "stderr",
     "output_type": "stream",
     "text": [
      "[Stage 93:===============================================>        (11 + 2) / 13]\r"
     ]
    },
    {
     "name": "stdout",
     "output_type": "stream",
     "text": [
      "+----+-------+\n",
      "|name|country|\n",
      "+----+-------+\n",
      "|   0|      0|\n",
      "+----+-------+\n",
      "\n",
      "None\n"
     ]
    },
    {
     "name": "stderr",
     "output_type": "stream",
     "text": [
      "                                                                                \r"
     ]
    }
   ],
   "source": [
    "print(joined_df.select([sfn.count(sfn.when(sfn.isnull(c), c)).alias(c) for c in joined_df.columns]).show())\n",
    "print(antijoined_df.select([sfn.count(sfn.when(sfn.isnull(c), c)).alias(c) for c in antijoined_df.columns]).show())\n",
    "print(artist_df_filtered.select([sfn.count(sfn.when(sfn.isnull(c), c)).alias(c) for c in artist_df_filtered.columns]).show())"
   ]
  },
  {
   "cell_type": "code",
   "execution_count": 30,
   "metadata": {},
   "outputs": [
    {
     "name": "stdout",
     "output_type": "stream",
     "text": [
      "root\n",
      " |-- name: string (nullable = false)\n",
      " |-- track_name: string (nullable = false)\n",
      " |-- popularity: long (nullable = false)\n",
      " |-- duration_ms: long (nullable = false)\n",
      " |-- explicit: boolean (nullable = false)\n",
      " |-- danceability: double (nullable = false)\n",
      " |-- energy: double (nullable = false)\n",
      " |-- key: long (nullable = false)\n",
      " |-- loudness: double (nullable = false)\n",
      " |-- mode: long (nullable = false)\n",
      " |-- speechiness: double (nullable = false)\n",
      " |-- acousticness: double (nullable = false)\n",
      " |-- instrumentalness: double (nullable = false)\n",
      " |-- liveness: double (nullable = false)\n",
      " |-- valence: double (nullable = false)\n",
      " |-- tempo: double (nullable = false)\n",
      " |-- time_signature: long (nullable = false)\n",
      " |-- track_genre: string (nullable = false)\n",
      " |-- country: string (nullable = false)\n",
      "\n",
      "root\n",
      " |-- name: string (nullable = false)\n",
      " |-- track_name: string (nullable = false)\n",
      " |-- popularity: long (nullable = false)\n",
      " |-- duration_ms: long (nullable = false)\n",
      " |-- explicit: boolean (nullable = false)\n",
      " |-- danceability: double (nullable = false)\n",
      " |-- energy: double (nullable = false)\n",
      " |-- key: long (nullable = false)\n",
      " |-- loudness: double (nullable = false)\n",
      " |-- mode: long (nullable = false)\n",
      " |-- speechiness: double (nullable = false)\n",
      " |-- acousticness: double (nullable = false)\n",
      " |-- instrumentalness: double (nullable = false)\n",
      " |-- liveness: double (nullable = false)\n",
      " |-- valence: double (nullable = false)\n",
      " |-- tempo: double (nullable = false)\n",
      " |-- time_signature: long (nullable = false)\n",
      " |-- track_genre: string (nullable = false)\n",
      "\n",
      "root\n",
      " |-- name: string (nullable = false)\n",
      " |-- country: string (nullable = false)\n",
      "\n"
     ]
    }
   ],
   "source": [
    "joined_df_no_null_schema = spark.createDataFrame(joined_df.rdd, schema=joined_df_schema)\n",
    "anti_joined_df_no_null_schema = spark.createDataFrame(antijoined_df.rdd, schema=antijoined_df_schema)\n",
    "artist_df_filtered_no_null_schema = spark.createDataFrame(artist_df_filtered.rdd, schema=artist_df_schema)\n",
    "\n",
    "joined_df_no_null_schema.printSchema()\n",
    "anti_joined_df_no_null_schema.printSchema()\n",
    "artist_df_filtered_no_null_schema.printSchema()"
   ]
  },
  {
   "cell_type": "code",
   "execution_count": 32,
   "metadata": {},
   "outputs": [
    {
     "name": "stderr",
     "output_type": "stream",
     "text": [
      "24/06/05 19:53:06 WARN MemoryManager: Total allocation exceeds 95.00% (1,020,054,720 bytes) of heap memory\n",
      "Scaling row group sizes to 95.00% for 8 writers\n",
      "24/06/05 19:53:06 WARN MemoryManager: Total allocation exceeds 95.00% (1,020,054,720 bytes) of heap memory\n",
      "Scaling row group sizes to 84.44% for 9 writers\n",
      "24/06/05 19:53:06 WARN MemoryManager: Total allocation exceeds 95.00% (1,020,054,720 bytes) of heap memory\n",
      "Scaling row group sizes to 76.00% for 10 writers\n",
      "24/06/05 19:53:06 WARN MemoryManager: Total allocation exceeds 95.00% (1,020,054,720 bytes) of heap memory\n",
      "Scaling row group sizes to 69.09% for 11 writers\n",
      "24/06/05 19:53:06 WARN MemoryManager: Total allocation exceeds 95.00% (1,020,054,720 bytes) of heap memory\n",
      "Scaling row group sizes to 63.33% for 12 writers\n",
      "24/06/05 19:53:06 WARN MemoryManager: Total allocation exceeds 95.00% (1,020,054,720 bytes) of heap memory\n",
      "Scaling row group sizes to 69.09% for 11 writers\n",
      "24/06/05 19:53:06 WARN MemoryManager: Total allocation exceeds 95.00% (1,020,054,720 bytes) of heap memory\n",
      "Scaling row group sizes to 76.00% for 10 writers\n",
      "24/06/05 19:53:06 WARN MemoryManager: Total allocation exceeds 95.00% (1,020,054,720 bytes) of heap memory\n",
      "Scaling row group sizes to 84.44% for 9 writers\n",
      "24/06/05 19:53:06 WARN MemoryManager: Total allocation exceeds 95.00% (1,020,054,720 bytes) of heap memory\n",
      "Scaling row group sizes to 95.00% for 8 writers\n",
      "24/06/05 19:53:22 WARN MemoryManager: Total allocation exceeds 95.00% (1,020,054,720 bytes) of heap memory\n",
      "Scaling row group sizes to 95.00% for 8 writers\n",
      "24/06/05 19:53:22 WARN MemoryManager: Total allocation exceeds 95.00% (1,020,054,720 bytes) of heap memory\n",
      "Scaling row group sizes to 84.44% for 9 writers\n",
      "24/06/05 19:53:22 WARN MemoryManager: Total allocation exceeds 95.00% (1,020,054,720 bytes) of heap memory\n",
      "Scaling row group sizes to 76.00% for 10 writers\n",
      "24/06/05 19:53:22 WARN MemoryManager: Total allocation exceeds 95.00% (1,020,054,720 bytes) of heap memory\n",
      "Scaling row group sizes to 69.09% for 11 writers\n",
      "24/06/05 19:53:22 WARN MemoryManager: Total allocation exceeds 95.00% (1,020,054,720 bytes) of heap memory\n",
      "Scaling row group sizes to 63.33% for 12 writers\n",
      "24/06/05 19:53:24 WARN MemoryManager: Total allocation exceeds 95.00% (1,020,054,720 bytes) of heap memory\n",
      "Scaling row group sizes to 69.09% for 11 writers\n",
      "24/06/05 19:53:24 WARN MemoryManager: Total allocation exceeds 95.00% (1,020,054,720 bytes) of heap memory\n",
      "Scaling row group sizes to 76.00% for 10 writers\n",
      "24/06/05 19:53:24 WARN MemoryManager: Total allocation exceeds 95.00% (1,020,054,720 bytes) of heap memory\n",
      "Scaling row group sizes to 84.44% for 9 writers\n",
      "24/06/05 19:53:24 WARN MemoryManager: Total allocation exceeds 95.00% (1,020,054,720 bytes) of heap memory\n",
      "Scaling row group sizes to 95.00% for 8 writers\n",
      "                                                                                \r"
     ]
    }
   ],
   "source": [
    "joined_df_no_null_schema.write.parquet(\"datasets/processed/joined_df.parquet\")\n",
    "anti_joined_df_no_null_schema.write.parquet(\"datasets/processed/antijoined_df.parquet\")\n",
    "artist_df_filtered_no_null_schema.write.parquet(\"datasets/processed/artist_df.parquet\")"
   ]
  },
  {
   "cell_type": "code",
   "execution_count": 33,
   "metadata": {},
   "outputs": [],
   "source": [
    "spark.stop()"
   ]
  }
 ],
 "metadata": {
  "kernelspec": {
   "display_name": "venv",
   "language": "python",
   "name": "python3"
  },
  "language_info": {
   "codemirror_mode": {
    "name": "ipython",
    "version": 3
   },
   "file_extension": ".py",
   "mimetype": "text/x-python",
   "name": "python",
   "nbconvert_exporter": "python",
   "pygments_lexer": "ipython3",
   "version": "3.12.3"
  },
  "orig_nbformat": 4
 },
 "nbformat": 4,
 "nbformat_minor": 2
}
